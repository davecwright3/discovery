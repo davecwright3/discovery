{
 "cells": [
  {
   "cell_type": "markdown",
   "id": "07f0bd17-d95c-4d95-bfe4-bc321c3e062e",
   "metadata": {},
   "source": [
    "## Building basic likelihoods"
   ]
  },
  {
   "cell_type": "code",
   "execution_count": 3,
   "id": "ac035f95-580c-40bb-a5aa-f71564a2c066",
   "metadata": {},
   "outputs": [],
   "source": [
    "import sys\n",
    "import os\n",
    "import glob\n",
    "\n",
    "import tqdm"
   ]
  },
  {
   "cell_type": "code",
   "execution_count": 4,
   "id": "32aa7d1c-6487-4a90-8672-c80a3d7cc0ae",
   "metadata": {},
   "outputs": [],
   "source": [
    "import numpy as np\n",
    "import pandas as pd\n",
    "import matplotlib.pyplot as pp\n",
    "\n",
    "%matplotlib inline"
   ]
  },
  {
   "cell_type": "code",
   "execution_count": 5,
   "id": "19d8a721-9078-4112-a386-f86a587cd56e",
   "metadata": {},
   "outputs": [],
   "source": [
    "import jax\n",
    "jax.config.update('jax_enable_x64', True)\n",
    "\n",
    "import jax.random\n",
    "import jax.numpy as jnp"
   ]
  },
  {
   "cell_type": "code",
   "execution_count": 6,
   "id": "6bd682e4-2835-4954-b69e-79e174259577",
   "metadata": {},
   "outputs": [],
   "source": [
    "import discovery as ds\n",
    "import discovery.models.nanograv as ds_nanograv\n",
    "import discovery.samplers.numpyro as ds_numpyro"
   ]
  },
  {
   "cell_type": "markdown",
   "id": "44215ce4-3871-4c67-bb9d-84eabe725fde",
   "metadata": {},
   "source": [
    "Read nanograv pulsars"
   ]
  },
  {
   "cell_type": "code",
   "execution_count": 8,
   "id": "8aa9506a-9f6e-4c3d-ae03-11e1656ae944",
   "metadata": {},
   "outputs": [],
   "source": [
    "allpsrs = [ds.Pulsar.read_feather(psrfile) for psrfile in sorted(glob.glob('../data/*-[JB]*.feather'))]"
   ]
  },
  {
   "cell_type": "code",
   "execution_count": 10,
   "id": "f2cf41de-c9ca-47d0-bf92-9e355e600cec",
   "metadata": {},
   "outputs": [],
   "source": [
    "psr = allpsrs[0]"
   ]
  },
  {
   "cell_type": "markdown",
   "id": "8a5ab010-2672-48fb-82d3-8e79b6acf887",
   "metadata": {},
   "source": [
    "### Single pulsar likelihood"
   ]
  },
  {
   "cell_type": "markdown",
   "id": "6e73f4a2-b24b-47be-a9da-64c4a9d388c9",
   "metadata": {},
   "source": [
    "#### Measurement noise only, no backends"
   ]
  },
  {
   "cell_type": "code",
   "execution_count": 11,
   "id": "699c395b-a761-469e-aac2-ece67d74a6cf",
   "metadata": {},
   "outputs": [],
   "source": [
    "m = ds.PulsarLikelihood([psr.residuals,\n",
    "                         ds.makenoise_measurement_simple(psr)])"
   ]
  },
  {
   "cell_type": "markdown",
   "id": "1538f45c-a07d-4f22-a330-65148fde258d",
   "metadata": {},
   "source": [
    "What are the active parameters?"
   ]
  },
  {
   "cell_type": "code",
   "execution_count": 14,
   "id": "5ef4d419-23c4-466a-8882-6a62ba9e2efa",
   "metadata": {},
   "outputs": [
    {
     "data": {
      "text/plain": [
       "['B1855+09_efac', 'B1855+09_log10_t2equad']"
      ]
     },
     "execution_count": 14,
     "metadata": {},
     "output_type": "execute_result"
    }
   ],
   "source": [
    "m.logL.params"
   ]
  },
  {
   "cell_type": "markdown",
   "id": "4d455e11-f762-4819-a6c8-7f73de015694",
   "metadata": {},
   "source": [
    "Sample random values from their priors"
   ]
  },
  {
   "cell_type": "code",
   "execution_count": 16,
   "id": "722433de-ea1c-41c2-9b3f-1e280e7a54ea",
   "metadata": {},
   "outputs": [
    {
     "data": {
      "text/plain": [
       "{'B1855+09_efac': 0.9631259853031077,\n",
       " 'B1855+09_log10_t2equad': -8.161514352406641}"
      ]
     },
     "execution_count": 16,
     "metadata": {},
     "output_type": "execute_result"
    }
   ],
   "source": [
    "p0 = ds.sample_uniform(m.logL.params); p0"
   ]
  },
  {
   "cell_type": "markdown",
   "id": "7933093f-f57d-42f2-9c38-a94d1be02eeb",
   "metadata": {},
   "source": [
    "Evaluate the likelihood"
   ]
  },
  {
   "cell_type": "code",
   "execution_count": 17,
   "id": "3e94f4ff-fc69-4d8c-bd14-c38e0bca0da5",
   "metadata": {},
   "outputs": [
    {
     "data": {
      "text/plain": [
       "Array(89964.27597335, dtype=float64)"
      ]
     },
     "execution_count": 17,
     "metadata": {},
     "output_type": "execute_result"
    }
   ],
   "source": [
    "m.logL(p0)"
   ]
  },
  {
   "cell_type": "markdown",
   "id": "0d1e2b45-3d43-49d3-89f1-68bd71b44ef0",
   "metadata": {},
   "source": [
    "Try compiled version, grad"
   ]
  },
  {
   "cell_type": "code",
   "execution_count": 18,
   "id": "880975cb-4f84-4b59-9f7f-c5a25644f3ce",
   "metadata": {},
   "outputs": [
    {
     "data": {
      "text/plain": [
       "Array(89964.27597335, dtype=float64)"
      ]
     },
     "execution_count": 18,
     "metadata": {},
     "output_type": "execute_result"
    }
   ],
   "source": [
    "jax.jit(m.logL)(p0)"
   ]
  },
  {
   "cell_type": "code",
   "execution_count": 19,
   "id": "da10f04c-3d67-4090-a785-504ae7203cbc",
   "metadata": {},
   "outputs": [
    {
     "data": {
      "text/plain": [
       "{'B1855+09_efac': Array(25210.26046491, dtype=float64, weak_type=True),\n",
       " 'B1855+09_log10_t2equad': Array(250.88301607, dtype=float64, weak_type=True)}"
      ]
     },
     "execution_count": 19,
     "metadata": {},
     "output_type": "execute_result"
    }
   ],
   "source": [
    "jax.grad(m.logL)(p0)"
   ]
  },
  {
   "cell_type": "markdown",
   "id": "11b8b493-7731-4aed-aaa4-1b00dfd0cb8d",
   "metadata": {},
   "source": [
    "#### Measurement noise only, nanograv backends, free parameters"
   ]
  },
  {
   "cell_type": "code",
   "execution_count": 22,
   "id": "86e146ae-4e6d-49aa-96c9-543d7ab29115",
   "metadata": {},
   "outputs": [],
   "source": [
    "m = ds.PulsarLikelihood([psr.residuals,\n",
    "                         ds.makenoise_measurement(psr)])"
   ]
  },
  {
   "cell_type": "code",
   "execution_count": 23,
   "id": "3edbb3cd-4b91-4f3b-9ca9-e02b3620531f",
   "metadata": {},
   "outputs": [
    {
     "data": {
      "text/plain": [
       "['B1855+09_430_ASP_efac',\n",
       " 'B1855+09_430_PUPPI_efac',\n",
       " 'B1855+09_L-wide_ASP_efac',\n",
       " 'B1855+09_L-wide_PUPPI_efac',\n",
       " 'B1855+09_430_ASP_log10_t2equad',\n",
       " 'B1855+09_430_PUPPI_log10_t2equad',\n",
       " 'B1855+09_L-wide_ASP_log10_t2equad',\n",
       " 'B1855+09_L-wide_PUPPI_log10_t2equad']"
      ]
     },
     "execution_count": 23,
     "metadata": {},
     "output_type": "execute_result"
    }
   ],
   "source": [
    "m.logL.params"
   ]
  },
  {
   "cell_type": "code",
   "execution_count": 24,
   "id": "06e2bf2c-dbf7-413f-b251-cafd25bca78e",
   "metadata": {},
   "outputs": [
    {
     "data": {
      "text/plain": [
       "Array(97129.83886491, dtype=float64)"
      ]
     },
     "execution_count": 24,
     "metadata": {},
     "output_type": "execute_result"
    }
   ],
   "source": [
    "m.logL(ds.sample_uniform(m.logL.params))"
   ]
  },
  {
   "cell_type": "markdown",
   "id": "8fe05818-ef18-46b3-999a-3d0fcf8d9a31",
   "metadata": {},
   "source": [
    "#### Measurement noise only, nanograv backends, parameters from noisedict"
   ]
  },
  {
   "cell_type": "code",
   "execution_count": 25,
   "id": "c56d08ae-19c3-43a4-b2f9-c10e821c7a96",
   "metadata": {},
   "outputs": [
    {
     "data": {
      "text/plain": [
       "{'B1855+09_430_ASP_efac': 1.115935306813982,\n",
       " 'B1855+09_430_ASP_log10_t2equad': -7.564164330699591,\n",
       " 'B1855+09_430_PUPPI_efac': 1.000049037085653,\n",
       " 'B1855+09_430_PUPPI_log10_t2equad': -6.572540211467256,\n",
       " 'B1855+09_L-wide_ASP_efac': 1.043114017270374,\n",
       " 'B1855+09_L-wide_ASP_log10_t2equad': -6.517929916655293,\n",
       " 'B1855+09_L-wide_PUPPI_efac': 1.1118432332882,\n",
       " 'B1855+09_L-wide_PUPPI_log10_t2equad': -7.755603780476984,\n",
       " 'B1855+09_430_ASP_log10_ecorr': -6.798122106550257,\n",
       " 'B1855+09_430_PUPPI_log10_ecorr': -5.6989064141929715,\n",
       " 'B1855+09_L-wide_ASP_log10_ecorr': -6.120457109433745,\n",
       " 'B1855+09_L-wide_PUPPI_log10_ecorr': -6.641667916624413,\n",
       " 'B1855+09_red_noise_log10_A': -13.940953818371378,\n",
       " 'B1855+09_red_noise_gamma': -3.68432133461766}"
      ]
     },
     "execution_count": 25,
     "metadata": {},
     "output_type": "execute_result"
    }
   ],
   "source": [
    "psr.noisedict"
   ]
  },
  {
   "cell_type": "code",
   "execution_count": 26,
   "id": "d2322f51-fe9a-4c56-a259-62e97c2912af",
   "metadata": {},
   "outputs": [],
   "source": [
    "m = ds.PulsarLikelihood([psr.residuals,\n",
    "                         ds.makenoise_measurement(psr, psr.noisedict)])"
   ]
  },
  {
   "cell_type": "code",
   "execution_count": 27,
   "id": "da6b0470-4773-4777-afbf-d6bc3715890a",
   "metadata": {},
   "outputs": [
    {
     "data": {
      "text/plain": [
       "[]"
      ]
     },
     "execution_count": 27,
     "metadata": {},
     "output_type": "execute_result"
    }
   ],
   "source": [
    "m.logL.params"
   ]
  },
  {
   "cell_type": "code",
   "execution_count": 28,
   "id": "54c3b072-c8ee-4ac5-b891-a2df7756688b",
   "metadata": {},
   "outputs": [
    {
     "data": {
      "text/plain": [
       "np.float64(96686.81011373615)"
      ]
     },
     "execution_count": 28,
     "metadata": {},
     "output_type": "execute_result"
    }
   ],
   "source": [
    "m.logL(ds.sample_uniform(m.logL.params))"
   ]
  },
  {
   "cell_type": "markdown",
   "id": "20f3e3f6-2d86-4705-8f7a-33a7254bae1a",
   "metadata": {},
   "source": [
    "#### Add ECORR noise (GP), free params"
   ]
  },
  {
   "cell_type": "code",
   "execution_count": 65,
   "id": "73e7c7c6-72d7-4327-97bf-b57eae4ecffa",
   "metadata": {},
   "outputs": [],
   "source": [
    "m = ds.PulsarLikelihood([psr.residuals,\n",
    "                         ds.makenoise_measurement(psr),\n",
    "                         ds.makegp_ecorr(psr)])"
   ]
  },
  {
   "cell_type": "code",
   "execution_count": 66,
   "id": "d17e380d-e992-4ceb-804d-74054cb347f1",
   "metadata": {},
   "outputs": [
    {
     "data": {
      "text/plain": [
       "['B1855+09_430_ASP_efac',\n",
       " 'B1855+09_430_ASP_log10_ecorr',\n",
       " 'B1855+09_430_ASP_log10_t2equad',\n",
       " 'B1855+09_430_PUPPI_efac',\n",
       " 'B1855+09_430_PUPPI_log10_ecorr',\n",
       " 'B1855+09_430_PUPPI_log10_t2equad',\n",
       " 'B1855+09_L-wide_ASP_efac',\n",
       " 'B1855+09_L-wide_ASP_log10_ecorr',\n",
       " 'B1855+09_L-wide_ASP_log10_t2equad',\n",
       " 'B1855+09_L-wide_PUPPI_efac',\n",
       " 'B1855+09_L-wide_PUPPI_log10_ecorr',\n",
       " 'B1855+09_L-wide_PUPPI_log10_t2equad']"
      ]
     },
     "execution_count": 66,
     "metadata": {},
     "output_type": "execute_result"
    }
   ],
   "source": [
    "m.logL.params"
   ]
  },
  {
   "cell_type": "code",
   "execution_count": 67,
   "id": "b996219e-9cb6-4d23-a79f-14032adcfd80",
   "metadata": {},
   "outputs": [
    {
     "data": {
      "text/plain": [
       "Array(95422.18669251, dtype=float64)"
      ]
     },
     "execution_count": 67,
     "metadata": {},
     "output_type": "execute_result"
    }
   ],
   "source": [
    "m.logL(ds.sample_uniform(m.logL.params))"
   ]
  },
  {
   "cell_type": "markdown",
   "id": "e23b3d98-43ec-4524-a06b-9fade8276aac",
   "metadata": {},
   "source": [
    "#### Add ECORR noise (GP), noisedict params"
   ]
  },
  {
   "cell_type": "code",
   "execution_count": 33,
   "id": "89f5545a-1b5a-4256-b110-d0d78dae5b99",
   "metadata": {},
   "outputs": [],
   "source": [
    "m = ds.PulsarLikelihood([psr.residuals,\n",
    "                         ds.makenoise_measurement(psr, psr.noisedict),\n",
    "                         ds.makegp_ecorr(psr, psr.noisedict)])"
   ]
  },
  {
   "cell_type": "code",
   "execution_count": 34,
   "id": "691f9049-2cf9-4dcd-8aa6-10aeb2c0502c",
   "metadata": {},
   "outputs": [
    {
     "data": {
      "text/plain": [
       "[]"
      ]
     },
     "execution_count": 34,
     "metadata": {},
     "output_type": "execute_result"
    }
   ],
   "source": [
    "m.logL.params"
   ]
  },
  {
   "cell_type": "code",
   "execution_count": 35,
   "id": "5cc23bd8-6292-4b8e-906e-8cd3c44a348d",
   "metadata": {},
   "outputs": [
    {
     "data": {
      "text/plain": [
       "np.float64(103037.9457516601)"
      ]
     },
     "execution_count": 35,
     "metadata": {},
     "output_type": "execute_result"
    }
   ],
   "source": [
    "m.logL(ds.sample_uniform(m.logL.params))"
   ]
  },
  {
   "cell_type": "markdown",
   "id": "5feb57c3-6aa8-40b7-b456-7edc67b5f220",
   "metadata": {},
   "source": [
    "#### Add timing model"
   ]
  },
  {
   "cell_type": "code",
   "execution_count": 36,
   "id": "ec2a87b8-bfdf-4b44-a4cb-b68ca44f9b65",
   "metadata": {},
   "outputs": [],
   "source": [
    "m = ds.PulsarLikelihood([psr.residuals,\n",
    "                         ds.makenoise_measurement(psr, psr.noisedict),\n",
    "                         ds.makegp_ecorr(psr, psr.noisedict),\n",
    "                         ds.makegp_timing(psr, svd=True)])"
   ]
  },
  {
   "cell_type": "code",
   "execution_count": 38,
   "id": "cdf3f813-1261-4887-9094-4af8c83fe9cf",
   "metadata": {},
   "outputs": [
    {
     "data": {
      "text/plain": [
       "[]"
      ]
     },
     "execution_count": 38,
     "metadata": {},
     "output_type": "execute_result"
    }
   ],
   "source": [
    "m.logL.params"
   ]
  },
  {
   "cell_type": "code",
   "execution_count": 39,
   "id": "e47f7a11-1287-45ae-b4be-1ec014f55d70",
   "metadata": {},
   "outputs": [
    {
     "data": {
      "text/plain": [
       "np.float64(94817.46786020289)"
      ]
     },
     "execution_count": 39,
     "metadata": {},
     "output_type": "execute_result"
    }
   ],
   "source": [
    "m.logL(ds.sample_uniform(m.logL.params))"
   ]
  },
  {
   "cell_type": "markdown",
   "id": "57cfb763-2747-4ccb-9a1b-f9ad2d460e43",
   "metadata": {},
   "source": [
    "#### Add red noise (powerlaw)"
   ]
  },
  {
   "cell_type": "code",
   "execution_count": 51,
   "id": "ba196a8b-53b0-4b75-8d43-0a64390a234f",
   "metadata": {},
   "outputs": [],
   "source": [
    "m = ds.PulsarLikelihood([psr.residuals,\n",
    "                         ds.makenoise_measurement(psr, psr.noisedict),\n",
    "                         ds.makegp_ecorr(psr, psr.noisedict),\n",
    "                         ds.makegp_timing(psr, svd=True),\n",
    "                         ds.makegp_fourier(psr, ds.powerlaw, components=30, name='rednoise')])"
   ]
  },
  {
   "cell_type": "code",
   "execution_count": 52,
   "id": "819e54f3-3851-4d25-9f87-5ee15ca091e5",
   "metadata": {},
   "outputs": [
    {
     "data": {
      "text/plain": [
       "['B1855+09_rednoise_log10_A', 'B1855+09_rednoise_gamma']"
      ]
     },
     "execution_count": 52,
     "metadata": {},
     "output_type": "execute_result"
    }
   ],
   "source": [
    "m.logL.params"
   ]
  },
  {
   "cell_type": "code",
   "execution_count": 53,
   "id": "6bf3347d-0245-452e-a21e-7edb678b9318",
   "metadata": {},
   "outputs": [
    {
     "data": {
      "text/plain": [
       "Array(94817.46858283, dtype=float64)"
      ]
     },
     "execution_count": 53,
     "metadata": {},
     "output_type": "execute_result"
    }
   ],
   "source": [
    "m.logL(ds.sample_uniform(m.logL.params))"
   ]
  },
  {
   "cell_type": "markdown",
   "id": "8d0d14b4-464b-4877-94d9-3e2670401559",
   "metadata": {},
   "source": [
    "#### Add red noise (powerlaw, fixed gamma)"
   ]
  },
  {
   "cell_type": "code",
   "execution_count": 54,
   "id": "d6c0f80b-c2e3-4083-9319-1e6977a94068",
   "metadata": {},
   "outputs": [],
   "source": [
    "m = ds.PulsarLikelihood([psr.residuals,\n",
    "                         ds.makenoise_measurement(psr, psr.noisedict),\n",
    "                         ds.makegp_ecorr(psr, psr.noisedict),\n",
    "                         ds.makegp_timing(psr, svd=True),\n",
    "                         ds.makegp_fourier(psr, ds.partial(ds.powerlaw, gamma=4.33), components=30, name='rednoise')])"
   ]
  },
  {
   "cell_type": "code",
   "execution_count": 55,
   "id": "0c9f4064-d10b-4d71-bf62-70af1bf60f59",
   "metadata": {},
   "outputs": [
    {
     "data": {
      "text/plain": [
       "['B1855+09_rednoise_log10_A']"
      ]
     },
     "execution_count": 55,
     "metadata": {},
     "output_type": "execute_result"
    }
   ],
   "source": [
    "m.logL.params"
   ]
  },
  {
   "cell_type": "code",
   "execution_count": 56,
   "id": "f4d967d6-50fa-4359-ad7f-d5a8f5d77505",
   "metadata": {},
   "outputs": [
    {
     "data": {
      "text/plain": [
       "Array(94818.95650736, dtype=float64)"
      ]
     },
     "execution_count": 56,
     "metadata": {},
     "output_type": "execute_result"
    }
   ],
   "source": [
    "m.logL(ds.sample_uniform(m.logL.params))"
   ]
  },
  {
   "cell_type": "markdown",
   "id": "07ac94e1-1d8c-4f34-aae5-97d428ce487f",
   "metadata": {},
   "source": [
    "#### Add red noise (free spectrum)"
   ]
  },
  {
   "cell_type": "code",
   "execution_count": 58,
   "id": "68ebf3bd-8e41-4786-a6f1-d90875c304dd",
   "metadata": {},
   "outputs": [],
   "source": [
    "m = ds.PulsarLikelihood([psr.residuals,\n",
    "                         ds.makenoise_measurement(psr, psr.noisedict),\n",
    "                         ds.makegp_ecorr(psr, psr.noisedict),\n",
    "                         ds.makegp_timing(psr, svd=True),\n",
    "                         ds.makegp_fourier(psr, ds.freespectrum, components=30, name='rednoise')])"
   ]
  },
  {
   "cell_type": "code",
   "execution_count": 59,
   "id": "4f8da9dd-563c-49b8-af66-26307a9b7e83",
   "metadata": {},
   "outputs": [
    {
     "data": {
      "text/plain": [
       "['B1855+09_rednoise_log10_rho(30)']"
      ]
     },
     "execution_count": 59,
     "metadata": {},
     "output_type": "execute_result"
    }
   ],
   "source": [
    "m.logL.params"
   ]
  },
  {
   "cell_type": "code",
   "execution_count": 64,
   "id": "541fe36e-9959-48fc-9585-a98ed424061e",
   "metadata": {},
   "outputs": [
    {
     "data": {
      "text/plain": [
       "Array(94024.38714473, dtype=float64)"
      ]
     },
     "execution_count": 64,
     "metadata": {},
     "output_type": "execute_result"
    }
   ],
   "source": [
    "m.logL({'B1855+09_rednoise_log10_rho(30)': 1e-6 * np.random.randn(30)})"
   ]
  },
  {
   "cell_type": "markdown",
   "id": "0c6ee0ff-7675-41f9-b74b-d0365e1b64ac",
   "metadata": {},
   "source": [
    "### Multiple pulsars"
   ]
  },
  {
   "cell_type": "code",
   "execution_count": 69,
   "id": "1ba031c3-08eb-46c9-babc-a07f76ddb1c4",
   "metadata": {},
   "outputs": [],
   "source": [
    "psrs = allpsrs[:3]"
   ]
  },
  {
   "cell_type": "markdown",
   "id": "e290538d-f441-4651-856d-a587d46eb3f6",
   "metadata": {},
   "source": [
    "#### Combined likelihood"
   ]
  },
  {
   "cell_type": "code",
   "execution_count": 77,
   "id": "ef47ff22-b6f3-408a-afc8-961432401702",
   "metadata": {},
   "outputs": [],
   "source": [
    "m = ds.ArrayLikelihood([ds.PulsarLikelihood([psr.residuals,\n",
    "                                             ds.makenoise_measurement(psr, psr.noisedict),\n",
    "                                             ds.makegp_ecorr(psr, psr.noisedict),\n",
    "                                             ds.makegp_timing(psr, svd=True),\n",
    "                                             ds.makegp_fourier(psr, ds.powerlaw, components=30, name='rednoise')])\n",
    "                        for psr in psrs])"
   ]
  },
  {
   "cell_type": "code",
   "execution_count": 78,
   "id": "2211c548-2b62-4d23-87b7-b07e05074b97",
   "metadata": {},
   "outputs": [
    {
     "data": {
      "text/plain": [
       "['B1855+09_rednoise_gamma',\n",
       " 'B1855+09_rednoise_log10_A',\n",
       " 'B1937+21_rednoise_gamma',\n",
       " 'B1937+21_rednoise_log10_A',\n",
       " 'B1953+29_rednoise_gamma',\n",
       " 'B1953+29_rednoise_log10_A']"
      ]
     },
     "execution_count": 78,
     "metadata": {},
     "output_type": "execute_result"
    }
   ],
   "source": [
    "m.logL.params"
   ]
  },
  {
   "cell_type": "code",
   "execution_count": 79,
   "id": "1c74fc9d-971b-4d42-8d43-81240a39faf1",
   "metadata": {},
   "outputs": [
    {
     "data": {
      "text/plain": [
       "Array(442105.13787401, dtype=float64)"
      ]
     },
     "execution_count": 79,
     "metadata": {},
     "output_type": "execute_result"
    }
   ],
   "source": [
    "m.logL(ds.sample_uniform(m.logL.params))"
   ]
  },
  {
   "cell_type": "markdown",
   "id": "a4f4dbe5-c318-4beb-964b-81d6836da269",
   "metadata": {},
   "source": [
    "#### Add common noise"
   ]
  },
  {
   "cell_type": "markdown",
   "id": "a1f7b57c-ef45-4b65-999d-5bbc0fd5a627",
   "metadata": {},
   "source": [
    "Indicating parameters under common shares them among pulsars"
   ]
  },
  {
   "cell_type": "code",
   "execution_count": null,
   "id": "593744b8-9c1c-45c3-b13e-8ac0f524270c",
   "metadata": {},
   "outputs": [],
   "source": [
    "T = ds.getspan(psrs)"
   ]
  },
  {
   "cell_type": "code",
   "execution_count": 115,
   "id": "2bf136ab-2e89-403a-94cb-6b9e33bc6d5f",
   "metadata": {},
   "outputs": [],
   "source": [
    "m = ds.ArrayLikelihood([ds.PulsarLikelihood([psr.residuals,\n",
    "                                             ds.makenoise_measurement(psr, psr.noisedict),\n",
    "                                             ds.makegp_ecorr(psr, psr.noisedict),\n",
    "                                             ds.makegp_timing(psr, svd=True),\n",
    "                                             ds.makegp_fourier(psr, ds.powerlaw, components=30, T=T, name='rednoise'),\n",
    "                                             ds.makegp_fourier(psr, ds.powerlaw, components=14, T=T, name='crn',\n",
    "                                                               common=['crn_log10_A', 'crn_gamma'])])\n",
    "                        for psr in psrs])"
   ]
  },
  {
   "cell_type": "code",
   "execution_count": 116,
   "id": "9359abc0-cb4b-4bf5-9f43-0dbdf19c5b91",
   "metadata": {},
   "outputs": [
    {
     "data": {
      "text/plain": [
       "['B1855+09_rednoise_gamma',\n",
       " 'B1855+09_rednoise_log10_A',\n",
       " 'B1937+21_rednoise_gamma',\n",
       " 'B1937+21_rednoise_log10_A',\n",
       " 'B1953+29_rednoise_gamma',\n",
       " 'B1953+29_rednoise_log10_A',\n",
       " 'crn_gamma',\n",
       " 'crn_log10_A']"
      ]
     },
     "execution_count": 116,
     "metadata": {},
     "output_type": "execute_result"
    }
   ],
   "source": [
    "m.logL.params"
   ]
  },
  {
   "cell_type": "code",
   "execution_count": 117,
   "id": "47d46aea-ddc1-495e-8beb-1f33f06b7fd1",
   "metadata": {},
   "outputs": [
    {
     "data": {
      "text/plain": [
       "Array(487234.62649703, dtype=float64)"
      ]
     },
     "execution_count": 117,
     "metadata": {},
     "output_type": "execute_result"
    }
   ],
   "source": [
    "p0 = ds.sample_uniform(m.logL.params)\n",
    "m.logL(p0)"
   ]
  },
  {
   "cell_type": "markdown",
   "id": "46c8c29c-176f-4f5a-9288-c51df74e75cf",
   "metadata": {},
   "source": [
    "#### Parallelize red components"
   ]
  },
  {
   "cell_type": "markdown",
   "id": "de059dff-8a0a-494e-9de0-e8d07936eeab",
   "metadata": {},
   "source": [
    "Coordinated timespan is required"
   ]
  },
  {
   "cell_type": "code",
   "execution_count": 118,
   "id": "9b00a93e-10fe-4fca-ba43-e45085a1f876",
   "metadata": {},
   "outputs": [],
   "source": [
    "m = ds.ArrayLikelihood([ds.PulsarLikelihood([psr.residuals,\n",
    "                                             ds.makenoise_measurement(psr, psr.noisedict),\n",
    "                                             ds.makegp_ecorr(psr, psr.noisedict),\n",
    "                                             ds.makegp_timing(psr, svd=True)]) for psr in psrs],\n",
    "                       commongp = [ds.makecommongp_fourier(psrs, ds.powerlaw, components=30, T=T, name='rednoise'),\n",
    "                                   ds.makecommongp_fourier(psrs, ds.powerlaw, components=14, T=T, name='crn',\n",
    "                                                           common=['crn_log10_A', 'crn_gamma'])])"
   ]
  },
  {
   "cell_type": "code",
   "execution_count": 119,
   "id": "3ada473a-aa16-4279-afa7-fc85ba3d77a0",
   "metadata": {},
   "outputs": [
    {
     "data": {
      "text/plain": [
       "['B1855+09_rednoise_gamma',\n",
       " 'B1855+09_rednoise_log10_A',\n",
       " 'B1937+21_rednoise_gamma',\n",
       " 'B1937+21_rednoise_log10_A',\n",
       " 'B1953+29_rednoise_gamma',\n",
       " 'B1953+29_rednoise_log10_A',\n",
       " 'crn_gamma',\n",
       " 'crn_log10_A']"
      ]
     },
     "execution_count": 119,
     "metadata": {},
     "output_type": "execute_result"
    }
   ],
   "source": [
    "m.logL.params"
   ]
  },
  {
   "cell_type": "code",
   "execution_count": 120,
   "id": "d6e42729-dae1-4169-86db-c8cd4af29694",
   "metadata": {},
   "outputs": [
    {
     "data": {
      "text/plain": [
       "Array(487234.62649703, dtype=float64)"
      ]
     },
     "execution_count": 120,
     "metadata": {},
     "output_type": "execute_result"
    }
   ],
   "source": [
    "m.logL(p0)"
   ]
  },
  {
   "cell_type": "markdown",
   "id": "26efa962-c706-4abb-9b5c-b87cf9b092ae",
   "metadata": {},
   "source": [
    "#### Reuse Fourier vectors"
   ]
  },
  {
   "cell_type": "markdown",
   "id": "27ae6b0b-bbaf-473a-84de-460b51563768",
   "metadata": {},
   "source": [
    "`ds.makepowerlaw_crn` yields the sum of two powerlaws, with possibly different number of components."
   ]
  },
  {
   "cell_type": "code",
   "execution_count": 95,
   "id": "01288584-359c-4c2b-bd8e-eb06ab1e693b",
   "metadata": {},
   "outputs": [],
   "source": [
    "m = ds.ArrayLikelihood([ds.PulsarLikelihood([psr.residuals,\n",
    "                                             ds.makenoise_measurement(psr, psr.noisedict),\n",
    "                                             ds.makegp_ecorr(psr, psr.noisedict),\n",
    "                                             ds.makegp_timing(psr, svd=True)]) for psr in psrs],\n",
    "                       commongp = ds.makecommongp_fourier(psrs, ds.makepowerlaw_crn(components=14), components=30, T=T, name='rednoise',\n",
    "                                                          common=['crn_log10_A', 'crn_gamma']))"
   ]
  },
  {
   "cell_type": "code",
   "execution_count": 96,
   "id": "0d5dda0a-30cd-4988-95a5-a60368972bd3",
   "metadata": {},
   "outputs": [
    {
     "data": {
      "text/plain": [
       "['B1855+09_rednoise_gamma',\n",
       " 'B1855+09_rednoise_log10_A',\n",
       " 'B1937+21_rednoise_gamma',\n",
       " 'B1937+21_rednoise_log10_A',\n",
       " 'B1953+29_rednoise_gamma',\n",
       " 'B1953+29_rednoise_log10_A',\n",
       " 'crn_gamma',\n",
       " 'crn_log10_A']"
      ]
     },
     "execution_count": 96,
     "metadata": {},
     "output_type": "execute_result"
    }
   ],
   "source": [
    "m.logL.params"
   ]
  },
  {
   "cell_type": "code",
   "execution_count": 97,
   "id": "ee1f1976-e22d-44af-883b-a24dfa980ec2",
   "metadata": {},
   "outputs": [
    {
     "data": {
      "text/plain": [
       "Array(476084.74919831, dtype=float64)"
      ]
     },
     "execution_count": 97,
     "metadata": {},
     "output_type": "execute_result"
    }
   ],
   "source": [
    "m.logL(p0)"
   ]
  },
  {
   "cell_type": "markdown",
   "id": "f4625455-335c-4f63-b1ac-1595eebf49b7",
   "metadata": {},
   "source": [
    "#### Add global spatially correlated process"
   ]
  },
  {
   "cell_type": "markdown",
   "id": "cda4d33e-6000-4cd9-abd5-91cf8698f4d6",
   "metadata": {},
   "source": [
    "Note `ds.makeglobalgp_fourier` requires the ORF, but not the `common` specification, which is automatic."
   ]
  },
  {
   "cell_type": "code",
   "execution_count": 124,
   "id": "fcfdde98-2b2c-4291-bcd9-a2abe1b32a67",
   "metadata": {},
   "outputs": [],
   "source": [
    "m = ds.ArrayLikelihood([ds.PulsarLikelihood([psr.residuals,\n",
    "                                             ds.makenoise_measurement(psr, psr.noisedict),\n",
    "                                             ds.makegp_ecorr(psr, psr.noisedict),\n",
    "                                             ds.makegp_timing(psr, svd=True)]) for psr in psrs],\n",
    "                       commongp = ds.makecommongp_fourier(psrs, ds.powerlaw, components=30, T=T, name='rednoise'),\n",
    "                       globalgp = ds.makeglobalgp_fourier(psrs, ds.powerlaw, ds.hd_orf, components=14, T=T, name='gw'))"
   ]
  },
  {
   "cell_type": "code",
   "execution_count": 125,
   "id": "accdf61a-b9eb-421d-b5e3-4459b5fb0618",
   "metadata": {},
   "outputs": [
    {
     "data": {
      "text/plain": [
       "['B1855+09_rednoise_gamma',\n",
       " 'B1855+09_rednoise_log10_A',\n",
       " 'B1937+21_rednoise_gamma',\n",
       " 'B1937+21_rednoise_log10_A',\n",
       " 'B1953+29_rednoise_gamma',\n",
       " 'B1953+29_rednoise_log10_A',\n",
       " 'gw_gamma',\n",
       " 'gw_log10_A']"
      ]
     },
     "execution_count": 125,
     "metadata": {},
     "output_type": "execute_result"
    }
   ],
   "source": [
    "m.logL.params"
   ]
  },
  {
   "cell_type": "code",
   "execution_count": 126,
   "id": "6a64d5aa-0892-436f-b46b-12a19a56dd88",
   "metadata": {},
   "outputs": [
    {
     "data": {
      "text/plain": [
       "Array(466332.09973769, dtype=float64)"
      ]
     },
     "execution_count": 126,
     "metadata": {},
     "output_type": "execute_result"
    }
   ],
   "source": [
    "p0 = ds.sample_uniform(m.logL.params)\n",
    "m.logL(p0)"
   ]
  },
  {
   "cell_type": "markdown",
   "id": "d130fa40-55f9-464c-9bf4-3159734fc5da",
   "metadata": {},
   "source": [
    "#### Another way of doing this (useful if variable GPs differ among pulsars)"
   ]
  },
  {
   "cell_type": "code",
   "execution_count": 127,
   "id": "f78720a6-b88f-425f-bbd6-0aaed967ebae",
   "metadata": {},
   "outputs": [],
   "source": [
    "m = ds.GlobalLikelihood([ds.PulsarLikelihood([psr.residuals,\n",
    "                                             ds.makenoise_measurement(psr, psr.noisedict),\n",
    "                                             ds.makegp_ecorr(psr, psr.noisedict),\n",
    "                                             ds.makegp_timing(psr, svd=True),\n",
    "                                             ds.makegp_fourier(psr, ds.powerlaw, components=30, name='rednoise')]) for psr in psrs],\n",
    "                        globalgp = ds.makeglobalgp_fourier(psrs, ds.powerlaw, ds.hd_orf, components=14, T=T, name='gw'))"
   ]
  },
  {
   "cell_type": "code",
   "execution_count": 128,
   "id": "02d76483-68a7-4a0a-8027-339759fd0e88",
   "metadata": {},
   "outputs": [
    {
     "data": {
      "text/plain": [
       "['B1855+09_rednoise_gamma',\n",
       " 'B1855+09_rednoise_log10_A',\n",
       " 'B1937+21_rednoise_gamma',\n",
       " 'B1937+21_rednoise_log10_A',\n",
       " 'B1953+29_rednoise_gamma',\n",
       " 'B1953+29_rednoise_log10_A',\n",
       " 'gw_gamma',\n",
       " 'gw_log10_A']"
      ]
     },
     "execution_count": 128,
     "metadata": {},
     "output_type": "execute_result"
    }
   ],
   "source": [
    "m.logL.params"
   ]
  },
  {
   "cell_type": "code",
   "execution_count": 129,
   "id": "695cc297-ddb7-4f47-9eae-3633b0e5c61d",
   "metadata": {},
   "outputs": [
    {
     "data": {
      "text/plain": [
       "Array(466332.19059264, dtype=float64)"
      ]
     },
     "execution_count": 129,
     "metadata": {},
     "output_type": "execute_result"
    }
   ],
   "source": [
    "m.logL(p0)"
   ]
  }
 ],
 "metadata": {
  "kernelspec": {
   "display_name": "Python 3 (ipykernel)",
   "language": "python",
   "name": "python3"
  },
  "language_info": {
   "codemirror_mode": {
    "name": "ipython",
    "version": 3
   },
   "file_extension": ".py",
   "mimetype": "text/x-python",
   "name": "python",
   "nbconvert_exporter": "python",
   "pygments_lexer": "ipython3",
   "version": "3.13.1"
  }
 },
 "nbformat": 4,
 "nbformat_minor": 5
}
