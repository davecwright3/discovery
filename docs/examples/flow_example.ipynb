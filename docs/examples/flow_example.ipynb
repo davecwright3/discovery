{
 "cells": [
  {
   "cell_type": "markdown",
   "metadata": {
    "id": "FQHL7R54DvOQ"
   },
   "source": [
    "## Experimenting with discovery.flow"
   ]
  },
  {
   "cell_type": "markdown",
   "metadata": {
    "id": "X8QVIcOFDPP6"
   },
   "source": [
    "An example notebook for \"Rapid parameter estimation for pulsar-timing-array datasets with variational inference and normalizing flows\" by Vallisneri, Crisostomi, Johnson and Meyers (http://www.arxiv.org/abs/2405.08857). Very slow unless it's run with jax[cuda] on "
   ]
  },
  {
   "cell_type": "markdown",
   "metadata": {},
   "source": [
    "Note that `discovery.flow` needs `equinox`, `flowjax`, `paramax`, `optax`."
   ]
  },
  {
   "cell_type": "code",
   "execution_count": 1,
   "metadata": {
    "id": "5eKRP5NJ16uQ"
   },
   "outputs": [],
   "source": [
    "import sys\n",
    "import os\n",
    "import glob\n",
    "\n",
    "import tqdm"
   ]
  },
  {
   "cell_type": "code",
   "execution_count": 2,
   "metadata": {
    "id": "5GlV1-h12QAO"
   },
   "outputs": [],
   "source": [
    "import numpy as np\n",
    "import pandas as pd\n",
    "import matplotlib.pyplot as pp\n",
    "\n",
    "%matplotlib inline"
   ]
  },
  {
   "cell_type": "code",
   "execution_count": 3,
   "metadata": {
    "id": "Z0pmGWra2a4o"
   },
   "outputs": [],
   "source": [
    "import jax\n",
    "jax.config.update('jax_enable_x64', True)\n",
    "\n",
    "import jax.random\n",
    "import jax.numpy as jnp"
   ]
  },
  {
   "cell_type": "code",
   "execution_count": 7,
   "metadata": {
    "id": "ho1E9dBG2Rf5"
   },
   "outputs": [],
   "source": [
    "import discovery as ds\n",
    "import discovery.flow as dsf"
   ]
  },
  {
   "cell_type": "code",
   "execution_count": 9,
   "metadata": {
    "id": "8i3GqBh_2_uG"
   },
   "outputs": [],
   "source": [
    "from flowjax.flows import triangular_spline_flow\n",
    "from flowjax.distributions import StandardNormal"
   ]
  },
  {
   "cell_type": "markdown",
   "metadata": {
    "id": "dMeGICXACMyr"
   },
   "source": [
    "Get the 15yr nanograv dataset"
   ]
  },
  {
   "cell_type": "code",
   "execution_count": 12,
   "metadata": {
    "id": "7c7V8xLx2dZ2"
   },
   "outputs": [],
   "source": [
    "allpsrs = [ds.Pulsar.read_feather(psrfile) for psrfile in sorted(glob.glob('../data/*-[JB]*.feather'))]"
   ]
  },
  {
   "cell_type": "markdown",
   "metadata": {},
   "source": [
    "Run with fewer pulsars to converge on GPU"
   ]
  },
  {
   "cell_type": "code",
   "execution_count": 50,
   "metadata": {},
   "outputs": [],
   "source": [
    "allpsrs = allpsrs[:5]"
   ]
  },
  {
   "cell_type": "markdown",
   "metadata": {
    "id": "VEQEU2232jRf"
   },
   "source": [
    "Set up a CURN likelihood, transform it so that all parameters have infinite ranges"
   ]
  },
  {
   "cell_type": "code",
   "execution_count": 51,
   "metadata": {
    "id": "70BxeSg62o7U"
   },
   "outputs": [],
   "source": [
    "Tspan = ds.getspan(allpsrs)\n",
    "\n",
    "m2 = ds.ArrayLikelihood((ds.PulsarLikelihood([psr.residuals,\n",
    "                                              ds.makenoise_measurement(psr, psr.noisedict),\n",
    "                                              ds.makegp_ecorr(psr, psr.noisedict),\n",
    "                                              ds.makegp_timing(psr, svd=True)]) for psr in allpsrs),\n",
    "                        commongp = ds.makecommongp_fourier(allpsrs, ds.makepowerlaw_crn(14), 30, T=Tspan,\n",
    "                                                           common=['crn_log10_A', 'crn_gamma'], name='red_noise'))\n",
    "\n",
    "logx = ds.makelogtransform_uniform(m2.logL)"
   ]
  },
  {
   "cell_type": "markdown",
   "metadata": {
    "id": "SsKVKAbo2pbl"
   },
   "source": [
    "Set up the Monte Carlo loss, with num_samples the parallelism factor"
   ]
  },
  {
   "cell_type": "code",
   "execution_count": 52,
   "metadata": {
    "id": "1Cqv7KIf3HF8"
   },
   "outputs": [],
   "source": [
    "num_samples = 1024\n",
    "loss = dsf.value_and_grad_ElboLoss(logx, num_samples=num_samples)"
   ]
  },
  {
   "cell_type": "markdown",
   "metadata": {
    "id": "dBDALf0pCYEk"
   },
   "source": [
    "Make some JAX pseudorandom keys"
   ]
  },
  {
   "cell_type": "code",
   "execution_count": 53,
   "metadata": {
    "id": "Wj2ZuLtL3JQk"
   },
   "outputs": [],
   "source": [
    "rng = jax.random.key(42)\n",
    "key, flow_key, train_key = jax.random.split(rng, 3)"
   ]
  },
  {
   "cell_type": "markdown",
   "metadata": {
    "id": "n2Xr6ZzNCZPx"
   },
   "source": [
    "Define the normalizing flow"
   ]
  },
  {
   "cell_type": "code",
   "execution_count": 54,
   "metadata": {
    "id": "rKNLeKyD3Krn"
   },
   "outputs": [],
   "source": [
    "flow = triangular_spline_flow(flow_key,\n",
    "                              base_dist=StandardNormal((len(logx.params),)), cond_dim=None,\n",
    "                              flow_layers=16, knots=9, tanh_max_val=3.0, invert=False, init=None,)"
   ]
  },
  {
   "cell_type": "markdown",
   "metadata": {
    "id": "wHiAdYaqCcD4"
   },
   "source": [
    "Prepare the trainer (will jit the loss). Here `multibatch` can be used to extend the batch size beyond what is set in the ElboLoss. The annealing schedule is a function of the iteration number meant to soften the initial target distribution. show_progress=True will show a bar."
   ]
  },
  {
   "cell_type": "code",
   "execution_count": 55,
   "metadata": {},
   "outputs": [
    {
     "data": {
      "text/plain": [
       "<module 'discovery.flow' from '/Users/vallis/Documents/discovery/src/discovery/flow.py'>"
      ]
     },
     "execution_count": 55,
     "metadata": {},
     "output_type": "execute_result"
    }
   ],
   "source": [
    "import importlib\n",
    "importlib.reload(ds.flow)\n",
    "importlib.reload(dsf)"
   ]
  },
  {
   "cell_type": "code",
   "execution_count": 56,
   "metadata": {
    "id": "icB4iUhJ3O9i"
   },
   "outputs": [
    {
     "name": "stdout",
     "output_type": "stream",
     "text": [
      "CPU times: user 1.62 s, sys: 49.5 ms, total: 1.67 s\n",
      "Wall time: 1.64 s\n"
     ]
    }
   ],
   "source": [
    "trainer = dsf.VariationalFit(dist=flow, loss_fn=loss, multibatch=1,\n",
    "                             learning_rate=1e-2, annealing_schedule=lambda i: min(1.0, 0.5 + 0.5*i/500),\n",
    "                             show_progress=True)"
   ]
  },
  {
   "cell_type": "markdown",
   "metadata": {
    "id": "IQQgSj1dDF4L"
   },
   "source": [
    "Train the network"
   ]
  },
  {
   "cell_type": "code",
   "execution_count": 57,
   "metadata": {
    "id": "soUX7dd43Rpf"
   },
   "outputs": [
    {
     "name": "stderr",
     "output_type": "stream",
     "text": [
      " 76%|███████████████████████████████████████████████████████████████████████████████████▋                          | 762/1001 [14:22<04:30,  1.13s/it, loss=-915444.40]"
     ]
    },
    {
     "name": "stdout",
     "output_type": "stream",
     "text": [
      "Early stopping at iteration 762\n"
     ]
    },
    {
     "name": "stderr",
     "output_type": "stream",
     "text": [
      "\n"
     ]
    }
   ],
   "source": [
    "train_key, trained_flow = trainer.run(train_key, steps=1001)"
   ]
  },
  {
   "cell_type": "markdown",
   "metadata": {
    "id": "ha1Y-_kFDG_w"
   },
   "source": [
    "Make samples from the flow, convert them back to physical parameters"
   ]
  },
  {
   "cell_type": "code",
   "execution_count": 58,
   "metadata": {
    "id": "Txp5Gn9M3V5r"
   },
   "outputs": [],
   "source": [
    "ps = logx.to_df(trained_flow.sample(train_key, sample_shape=(4096 * 4,)))"
   ]
  },
  {
   "cell_type": "markdown",
   "metadata": {
    "id": "DW2nb3GBDLpb"
   },
   "source": [
    "Histogram!"
   ]
  },
  {
   "cell_type": "code",
   "execution_count": 60,
   "metadata": {
    "id": "2mPROdBU3X1d"
   },
   "outputs": [
    {
     "data": {
      "image/png": "[encoded data removed]",
      "text/plain": [
       "<Figure size 640x480 with 1 Axes>"
      ]
     },
     "metadata": {},
     "output_type": "display_data"
    }
   ],
   "source": [
    "pp.hist(ps['crn_log10_A'], histtype='step', density=True, bins=40);"
   ]
  },
  {
   "cell_type": "code",
   "execution_count": null,
   "metadata": {},
   "outputs": [],
   "source": []
  }
 ],
 "metadata": {
  "colab": {
   "provenance": []
  },
  "kernelspec": {
   "display_name": "Python 3 (ipykernel)",
   "language": "python",
   "name": "python3"
  },
  "language_info": {
   "codemirror_mode": {
    "name": "ipython",
    "version": 3
   },
   "file_extension": ".py",
   "mimetype": "text/x-python",
   "name": "python",
   "nbconvert_exporter": "python",
   "pygments_lexer": "ipython3",
   "version": "3.13.1"
  }
 },
 "nbformat": 4,
 "nbformat_minor": 4
}
