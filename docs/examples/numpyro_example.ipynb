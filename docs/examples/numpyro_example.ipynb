{
 "cells": [
  {
   "cell_type": "markdown",
   "id": "09a43d70-2f4e-4c54-8f65-7c6a724734a7",
   "metadata": {},
   "source": [
    "## Parameter estimation with discovery and numpyro"
   ]
  },
  {
   "cell_type": "markdown",
   "id": "fb628997-7226-4a11-b113-0435055360e1",
   "metadata": {},
   "source": [
    "Creating MCMC chains with discovery likelihoods and `numpyro`'s [NUTS sampler](https://num.pyro.ai/en/latest/mcmc.html)."
   ]
  },
  {
   "cell_type": "markdown",
   "id": "97e56c9a-69f7-4398-ad7e-ff7b89b4b6b1",
   "metadata": {},
   "source": [
    "Obviously, `discovery.samplers.numpyro` requires `numpyro`."
   ]
  },
  {
   "cell_type": "code",
   "execution_count": 2,
   "id": "35ea2696-df49-4372-aa4c-9168cd610fe2",
   "metadata": {},
   "outputs": [],
   "source": [
    "import sys\n",
    "import os\n",
    "import glob\n",
    "\n",
    "import tqdm"
   ]
  },
  {
   "cell_type": "code",
   "execution_count": 3,
   "id": "cdb73210-6d6c-490e-924b-1275d541f0cc",
   "metadata": {},
   "outputs": [],
   "source": [
    "import numpy as np\n",
    "import pandas as pd\n",
    "import matplotlib.pyplot as pp\n",
    "\n",
    "%matplotlib inline"
   ]
  },
  {
   "cell_type": "code",
   "execution_count": 4,
   "id": "05f57f4e-48f9-423e-9302-c4b48d25b816",
   "metadata": {},
   "outputs": [],
   "source": [
    "import jax\n",
    "jax.config.update('jax_enable_x64', True)\n",
    "\n",
    "import jax.random\n",
    "import jax.numpy as jnp"
   ]
  },
  {
   "cell_type": "code",
   "execution_count": 6,
   "id": "3b02e719-113a-4dca-b3b6-5dab9be1c6c0",
   "metadata": {},
   "outputs": [],
   "source": [
    "import discovery as ds\n",
    "import discovery.models.nanograv as ds_nanograv\n",
    "import discovery.samplers.numpyro as ds_numpyro"
   ]
  },
  {
   "cell_type": "markdown",
   "id": "16ff150c-4c89-446f-a21a-6017c05c0cbb",
   "metadata": {},
   "source": [
    "Read nanograv pulsars"
   ]
  },
  {
   "cell_type": "code",
   "execution_count": 8,
   "id": "9139090f-6373-492d-aa0e-520522625ac9",
   "metadata": {},
   "outputs": [],
   "source": [
    "allpsrs = [ds.Pulsar.read_feather(psrfile) for psrfile in sorted(glob.glob('../data/*-[JB]*.feather'))]"
   ]
  },
  {
   "cell_type": "markdown",
   "id": "7ad64559-204c-46ea-a5dd-f5e1fe809654",
   "metadata": {},
   "source": [
    "Run with fewer pulsars to converge on GPU"
   ]
  },
  {
   "cell_type": "code",
   "execution_count": 10,
   "id": "e4f28d66-2848-4868-a946-f5d3c9e954cf",
   "metadata": {},
   "outputs": [],
   "source": [
    "allpsrs = allpsrs[:5]"
   ]
  },
  {
   "cell_type": "markdown",
   "id": "6a7cc22f-af1a-477b-a97f-5a6ac19c7bc0",
   "metadata": {},
   "source": [
    "Set up a NANOGrav CURN model. Possible options to `makemodel_curn` are `rn_components`, `crn_components`, and `gamma=<fixed_value>`. For an HD model, use `ds_nanograv.makemodel_hd`."
   ]
  },
  {
   "cell_type": "code",
   "execution_count": 12,
   "id": "c242a56b-b41c-4663-994c-aa28ac000bb2",
   "metadata": {},
   "outputs": [],
   "source": [
    "model = ds_nanograv.makemodel_curn(allpsrs)"
   ]
  },
  {
   "cell_type": "markdown",
   "id": "549fb3a0-3942-4332-8969-7fc554a3ff2e",
   "metadata": {},
   "source": [
    "Obtain the likelihood"
   ]
  },
  {
   "cell_type": "code",
   "execution_count": 16,
   "id": "7ce9eb9c-63ff-4bda-a990-e2a7c5c13d61",
   "metadata": {},
   "outputs": [],
   "source": [
    "logl = model.logL"
   ]
  },
  {
   "cell_type": "markdown",
   "id": "7e6ff010-5323-4c2a-b6ae-267a8f5ee60c",
   "metadata": {},
   "source": [
    "These are the parameters."
   ]
  },
  {
   "cell_type": "code",
   "execution_count": 17,
   "id": "dd04e903-c7b7-41cc-b18c-eefc4494baa2",
   "metadata": {},
   "outputs": [
    {
     "data": {
      "text/plain": [
       "['B1855+09_red_noise_gamma',\n",
       " 'B1855+09_red_noise_log10_A',\n",
       " 'B1937+21_red_noise_gamma',\n",
       " 'B1937+21_red_noise_log10_A',\n",
       " 'B1953+29_red_noise_gamma',\n",
       " 'B1953+29_red_noise_log10_A',\n",
       " 'J0023+0923_red_noise_gamma',\n",
       " 'J0023+0923_red_noise_log10_A',\n",
       " 'J0030+0451_red_noise_gamma',\n",
       " 'J0030+0451_red_noise_log10_A',\n",
       " 'crn_gamma',\n",
       " 'crn_log10_A']"
      ]
     },
     "execution_count": 17,
     "metadata": {},
     "output_type": "execute_result"
    }
   ],
   "source": [
    "logl.params"
   ]
  },
  {
   "cell_type": "markdown",
   "id": "108e770a-a451-446d-b6ea-322d0adb22a8",
   "metadata": {},
   "source": [
    "Sample parameter values from their default uniform priors."
   ]
  },
  {
   "cell_type": "code",
   "execution_count": 18,
   "id": "d3a62f76-a3c3-47f4-96e8-a6faa8d4cebf",
   "metadata": {},
   "outputs": [],
   "source": [
    "p0 = ds.sample_uniform(logl.params)"
   ]
  },
  {
   "cell_type": "markdown",
   "id": "7f23912e-4231-4902-a806-7785423e1609",
   "metadata": {},
   "source": [
    "Try likelihood, compiled version, likelihood gradient."
   ]
  },
  {
   "cell_type": "code",
   "execution_count": 20,
   "id": "4076c392-bccd-4c79-805b-a175038a152d",
   "metadata": {},
   "outputs": [
    {
     "data": {
      "text/plain": [
       "Array(914691.13889637, dtype=float64)"
      ]
     },
     "execution_count": 20,
     "metadata": {},
     "output_type": "execute_result"
    }
   ],
   "source": [
    "logl(p0)"
   ]
  },
  {
   "cell_type": "code",
   "execution_count": 21,
   "id": "db56602b-cdea-436d-95d9-dd32dc9620c5",
   "metadata": {},
   "outputs": [
    {
     "data": {
      "text/plain": [
       "Array(914691.13889637, dtype=float64)"
      ]
     },
     "execution_count": 21,
     "metadata": {},
     "output_type": "execute_result"
    }
   ],
   "source": [
    "jax.jit(logl)(p0)"
   ]
  },
  {
   "cell_type": "code",
   "execution_count": 22,
   "id": "f18444c6-9440-4b14-a472-efe7e123fe1c",
   "metadata": {},
   "outputs": [
    {
     "data": {
      "text/plain": [
       "{'B1855+09_red_noise_gamma': Array(-0.0009749, dtype=float64, weak_type=True),\n",
       " 'B1855+09_red_noise_log10_A': Array(-0.00166683, dtype=float64, weak_type=True),\n",
       " 'B1937+21_red_noise_gamma': Array(-0.0004357, dtype=float64, weak_type=True),\n",
       " 'B1937+21_red_noise_log10_A': Array(-0.00086616, dtype=float64, weak_type=True),\n",
       " 'B1953+29_red_noise_gamma': Array(-0.01444272, dtype=float64, weak_type=True),\n",
       " 'B1953+29_red_noise_log10_A': Array(-0.02485109, dtype=float64, weak_type=True),\n",
       " 'J0023+0923_red_noise_gamma': Array(-4.61835094e-11, dtype=float64, weak_type=True),\n",
       " 'J0023+0923_red_noise_log10_A': Array(-9.62121944e-11, dtype=float64, weak_type=True),\n",
       " 'J0030+0451_red_noise_gamma': Array(-0.00069229, dtype=float64, weak_type=True),\n",
       " 'J0030+0451_red_noise_log10_A': Array(-0.00137895, dtype=float64, weak_type=True),\n",
       " 'crn_gamma': Array(-25.50380024, dtype=float64, weak_type=True),\n",
       " 'crn_log10_A': Array(-504.46209096, dtype=float64, weak_type=True)}"
      ]
     },
     "execution_count": 22,
     "metadata": {},
     "output_type": "execute_result"
    }
   ],
   "source": [
    "jax.grad(logl)(p0)"
   ]
  },
  {
   "cell_type": "markdown",
   "id": "591da3cd-eb8a-464d-b14c-9beef62d1cdf",
   "metadata": {},
   "source": [
    "Make a numpyro model, transforming likelihood to standard `[-inf, inf]` parameter ranges."
   ]
  },
  {
   "cell_type": "code",
   "execution_count": 23,
   "id": "411b4ede-9262-4f50-ad30-4235a811ec68",
   "metadata": {},
   "outputs": [],
   "source": [
    "npmodel = ds_numpyro.makemodel_transformed(logl)"
   ]
  },
  {
   "cell_type": "markdown",
   "id": "ac215bf8-4eca-44df-b027-fdf14db4a9aa",
   "metadata": {},
   "source": [
    "Make a numpyro NUTS sampler object. Numypro arguments for `infer.MCMC` and `infer.NUTS` are supported."
   ]
  },
  {
   "cell_type": "code",
   "execution_count": 27,
   "id": "5a43c03d-1505-47c0-9d4d-18b26939bc43",
   "metadata": {},
   "outputs": [],
   "source": [
    "npsampler = ds_numpyro.makesampler_nuts(npmodel)"
   ]
  },
  {
   "cell_type": "markdown",
   "id": "9b4fc3ad-41ee-48f2-a9a6-9cb283f66d9d",
   "metadata": {},
   "source": [
    "Run with a set random seed."
   ]
  },
  {
   "cell_type": "code",
   "execution_count": 28,
   "id": "51434038-d03b-4485-b05b-e62ffaab807a",
   "metadata": {},
   "outputs": [
    {
     "name": "stderr",
     "output_type": "stream",
     "text": [
      "sample: 100%|███████████████████████████████████████████████████████████████████████████| 1536/1536 [00:53<00:00, 28.91it/s, 31 steps of size 1.37e-01. acc. prob=0.85]\n"
     ]
    }
   ],
   "source": [
    "npsampler.run(jax.random.PRNGKey(42))"
   ]
  },
  {
   "cell_type": "markdown",
   "id": "51664e95-e7a7-471e-853b-20968aadf0ba",
   "metadata": {},
   "source": [
    "`discovery` enhances the `numpyro` sampler with a method `to_df()` that returns the sampler chain as a pandas `DataFrame`."
   ]
  },
  {
   "cell_type": "code",
   "execution_count": 29,
   "id": "923a89b0-d981-4a84-9b5e-06aed3db9f17",
   "metadata": {},
   "outputs": [],
   "source": [
    "chain = npsampler.to_df()"
   ]
  },
  {
   "cell_type": "code",
   "execution_count": 31,
   "id": "1d01a09a-382c-4caf-9f22-ea8447a38660",
   "metadata": {},
   "outputs": [
    {
     "data": {
      "text/html": [
       "<div>\n",
       "<style scoped>\n",
       "    .dataframe tbody tr th:only-of-type {\n",
       "        vertical-align: middle;\n",
       "    }\n",
       "\n",
       "    .dataframe tbody tr th {\n",
       "        vertical-align: top;\n",
       "    }\n",
       "\n",
       "    .dataframe thead th {\n",
       "        text-align: right;\n",
       "    }\n",
       "</style>\n",
       "<table border=\"1\" class=\"dataframe\">\n",
       "  <thead>\n",
       "    <tr style=\"text-align: right;\">\n",
       "      <th></th>\n",
       "      <th>B1855+09_red_noise_gamma</th>\n",
       "      <th>B1855+09_red_noise_log10_A</th>\n",
       "      <th>B1937+21_red_noise_gamma</th>\n",
       "      <th>B1937+21_red_noise_log10_A</th>\n",
       "      <th>B1953+29_red_noise_gamma</th>\n",
       "      <th>B1953+29_red_noise_log10_A</th>\n",
       "      <th>J0023+0923_red_noise_gamma</th>\n",
       "      <th>J0023+0923_red_noise_log10_A</th>\n",
       "      <th>J0030+0451_red_noise_gamma</th>\n",
       "      <th>J0030+0451_red_noise_log10_A</th>\n",
       "      <th>crn_gamma</th>\n",
       "      <th>crn_log10_A</th>\n",
       "    </tr>\n",
       "  </thead>\n",
       "  <tbody>\n",
       "    <tr>\n",
       "      <th>0</th>\n",
       "      <td>6.476984</td>\n",
       "      <td>-18.148467</td>\n",
       "      <td>4.089248</td>\n",
       "      <td>-13.520661</td>\n",
       "      <td>1.075246</td>\n",
       "      <td>-12.642510</td>\n",
       "      <td>5.500433</td>\n",
       "      <td>-18.054510</td>\n",
       "      <td>0.494193</td>\n",
       "      <td>-15.080699</td>\n",
       "      <td>4.255313</td>\n",
       "      <td>-14.181534</td>\n",
       "    </tr>\n",
       "    <tr>\n",
       "      <th>1</th>\n",
       "      <td>0.013168</td>\n",
       "      <td>-16.318226</td>\n",
       "      <td>3.942949</td>\n",
       "      <td>-13.649348</td>\n",
       "      <td>4.265511</td>\n",
       "      <td>-13.434208</td>\n",
       "      <td>1.890570</td>\n",
       "      <td>-13.717133</td>\n",
       "      <td>5.991677</td>\n",
       "      <td>-18.095588</td>\n",
       "      <td>3.959131</td>\n",
       "      <td>-14.168350</td>\n",
       "    </tr>\n",
       "    <tr>\n",
       "      <th>2</th>\n",
       "      <td>0.008013</td>\n",
       "      <td>-17.412356</td>\n",
       "      <td>4.291904</td>\n",
       "      <td>-13.584551</td>\n",
       "      <td>4.502505</td>\n",
       "      <td>-13.422527</td>\n",
       "      <td>2.607725</td>\n",
       "      <td>-16.042287</td>\n",
       "      <td>5.190236</td>\n",
       "      <td>-17.986991</td>\n",
       "      <td>3.985542</td>\n",
       "      <td>-14.211795</td>\n",
       "    </tr>\n",
       "    <tr>\n",
       "      <th>3</th>\n",
       "      <td>2.891030</td>\n",
       "      <td>-17.814518</td>\n",
       "      <td>4.211965</td>\n",
       "      <td>-13.615802</td>\n",
       "      <td>0.395461</td>\n",
       "      <td>-12.660168</td>\n",
       "      <td>4.132601</td>\n",
       "      <td>-19.332417</td>\n",
       "      <td>0.611211</td>\n",
       "      <td>-17.589698</td>\n",
       "      <td>3.217800</td>\n",
       "      <td>-13.794063</td>\n",
       "    </tr>\n",
       "    <tr>\n",
       "      <th>4</th>\n",
       "      <td>2.965423</td>\n",
       "      <td>-15.693120</td>\n",
       "      <td>3.741948</td>\n",
       "      <td>-13.572435</td>\n",
       "      <td>0.256944</td>\n",
       "      <td>-12.584014</td>\n",
       "      <td>0.387995</td>\n",
       "      <td>-19.913435</td>\n",
       "      <td>6.216158</td>\n",
       "      <td>-17.504121</td>\n",
       "      <td>3.778628</td>\n",
       "      <td>-13.996851</td>\n",
       "    </tr>\n",
       "    <tr>\n",
       "      <th>...</th>\n",
       "      <td>...</td>\n",
       "      <td>...</td>\n",
       "      <td>...</td>\n",
       "      <td>...</td>\n",
       "      <td>...</td>\n",
       "      <td>...</td>\n",
       "      <td>...</td>\n",
       "      <td>...</td>\n",
       "      <td>...</td>\n",
       "      <td>...</td>\n",
       "      <td>...</td>\n",
       "      <td>...</td>\n",
       "    </tr>\n",
       "    <tr>\n",
       "      <th>1019</th>\n",
       "      <td>2.442326</td>\n",
       "      <td>-18.021231</td>\n",
       "      <td>4.636352</td>\n",
       "      <td>-13.734986</td>\n",
       "      <td>2.430792</td>\n",
       "      <td>-13.031007</td>\n",
       "      <td>4.129197</td>\n",
       "      <td>-16.518822</td>\n",
       "      <td>2.839567</td>\n",
       "      <td>-19.432986</td>\n",
       "      <td>3.057165</td>\n",
       "      <td>-13.757071</td>\n",
       "    </tr>\n",
       "    <tr>\n",
       "      <th>1020</th>\n",
       "      <td>2.880649</td>\n",
       "      <td>-18.471594</td>\n",
       "      <td>4.405029</td>\n",
       "      <td>-13.796660</td>\n",
       "      <td>2.809793</td>\n",
       "      <td>-13.066353</td>\n",
       "      <td>4.538688</td>\n",
       "      <td>-16.337045</td>\n",
       "      <td>1.827672</td>\n",
       "      <td>-19.730748</td>\n",
       "      <td>3.071215</td>\n",
       "      <td>-13.836040</td>\n",
       "    </tr>\n",
       "    <tr>\n",
       "      <th>1021</th>\n",
       "      <td>5.352179</td>\n",
       "      <td>-19.604518</td>\n",
       "      <td>4.404296</td>\n",
       "      <td>-13.660947</td>\n",
       "      <td>2.805014</td>\n",
       "      <td>-13.006893</td>\n",
       "      <td>3.836079</td>\n",
       "      <td>-16.749440</td>\n",
       "      <td>1.109886</td>\n",
       "      <td>-18.662330</td>\n",
       "      <td>3.386114</td>\n",
       "      <td>-13.757132</td>\n",
       "    </tr>\n",
       "    <tr>\n",
       "      <th>1022</th>\n",
       "      <td>3.455395</td>\n",
       "      <td>-16.677092</td>\n",
       "      <td>3.856385</td>\n",
       "      <td>-13.595281</td>\n",
       "      <td>2.120671</td>\n",
       "      <td>-12.838609</td>\n",
       "      <td>1.916079</td>\n",
       "      <td>-14.054348</td>\n",
       "      <td>2.648604</td>\n",
       "      <td>-18.986566</td>\n",
       "      <td>3.253295</td>\n",
       "      <td>-13.718977</td>\n",
       "    </tr>\n",
       "    <tr>\n",
       "      <th>1023</th>\n",
       "      <td>5.113523</td>\n",
       "      <td>-16.633020</td>\n",
       "      <td>4.296183</td>\n",
       "      <td>-13.660373</td>\n",
       "      <td>0.912844</td>\n",
       "      <td>-12.634724</td>\n",
       "      <td>5.172464</td>\n",
       "      <td>-17.452296</td>\n",
       "      <td>1.656672</td>\n",
       "      <td>-16.131782</td>\n",
       "      <td>3.260820</td>\n",
       "      <td>-13.887976</td>\n",
       "    </tr>\n",
       "  </tbody>\n",
       "</table>\n",
       "<p>1024 rows × 12 columns</p>\n",
       "</div>"
      ],
      "text/plain": [
       "      B1855+09_red_noise_gamma  B1855+09_red_noise_log10_A  \\\n",
       "0                     6.476984                  -18.148467   \n",
       "1                     0.013168                  -16.318226   \n",
       "2                     0.008013                  -17.412356   \n",
       "3                     2.891030                  -17.814518   \n",
       "4                     2.965423                  -15.693120   \n",
       "...                        ...                         ...   \n",
       "1019                  2.442326                  -18.021231   \n",
       "1020                  2.880649                  -18.471594   \n",
       "1021                  5.352179                  -19.604518   \n",
       "1022                  3.455395                  -16.677092   \n",
       "1023                  5.113523                  -16.633020   \n",
       "\n",
       "      B1937+21_red_noise_gamma  B1937+21_red_noise_log10_A  \\\n",
       "0                     4.089248                  -13.520661   \n",
       "1                     3.942949                  -13.649348   \n",
       "2                     4.291904                  -13.584551   \n",
       "3                     4.211965                  -13.615802   \n",
       "4                     3.741948                  -13.572435   \n",
       "...                        ...                         ...   \n",
       "1019                  4.636352                  -13.734986   \n",
       "1020                  4.405029                  -13.796660   \n",
       "1021                  4.404296                  -13.660947   \n",
       "1022                  3.856385                  -13.595281   \n",
       "1023                  4.296183                  -13.660373   \n",
       "\n",
       "      B1953+29_red_noise_gamma  B1953+29_red_noise_log10_A  \\\n",
       "0                     1.075246                  -12.642510   \n",
       "1                     4.265511                  -13.434208   \n",
       "2                     4.502505                  -13.422527   \n",
       "3                     0.395461                  -12.660168   \n",
       "4                     0.256944                  -12.584014   \n",
       "...                        ...                         ...   \n",
       "1019                  2.430792                  -13.031007   \n",
       "1020                  2.809793                  -13.066353   \n",
       "1021                  2.805014                  -13.006893   \n",
       "1022                  2.120671                  -12.838609   \n",
       "1023                  0.912844                  -12.634724   \n",
       "\n",
       "      J0023+0923_red_noise_gamma  J0023+0923_red_noise_log10_A  \\\n",
       "0                       5.500433                    -18.054510   \n",
       "1                       1.890570                    -13.717133   \n",
       "2                       2.607725                    -16.042287   \n",
       "3                       4.132601                    -19.332417   \n",
       "4                       0.387995                    -19.913435   \n",
       "...                          ...                           ...   \n",
       "1019                    4.129197                    -16.518822   \n",
       "1020                    4.538688                    -16.337045   \n",
       "1021                    3.836079                    -16.749440   \n",
       "1022                    1.916079                    -14.054348   \n",
       "1023                    5.172464                    -17.452296   \n",
       "\n",
       "      J0030+0451_red_noise_gamma  J0030+0451_red_noise_log10_A  crn_gamma  \\\n",
       "0                       0.494193                    -15.080699   4.255313   \n",
       "1                       5.991677                    -18.095588   3.959131   \n",
       "2                       5.190236                    -17.986991   3.985542   \n",
       "3                       0.611211                    -17.589698   3.217800   \n",
       "4                       6.216158                    -17.504121   3.778628   \n",
       "...                          ...                           ...        ...   \n",
       "1019                    2.839567                    -19.432986   3.057165   \n",
       "1020                    1.827672                    -19.730748   3.071215   \n",
       "1021                    1.109886                    -18.662330   3.386114   \n",
       "1022                    2.648604                    -18.986566   3.253295   \n",
       "1023                    1.656672                    -16.131782   3.260820   \n",
       "\n",
       "      crn_log10_A  \n",
       "0      -14.181534  \n",
       "1      -14.168350  \n",
       "2      -14.211795  \n",
       "3      -13.794063  \n",
       "4      -13.996851  \n",
       "...           ...  \n",
       "1019   -13.757071  \n",
       "1020   -13.836040  \n",
       "1021   -13.757132  \n",
       "1022   -13.718977  \n",
       "1023   -13.887976  \n",
       "\n",
       "[1024 rows x 12 columns]"
      ]
     },
     "execution_count": 31,
     "metadata": {},
     "output_type": "execute_result"
    }
   ],
   "source": [
    "chain"
   ]
  },
  {
   "cell_type": "code",
   "execution_count": 34,
   "id": "6937d72b-79c9-4ad2-a60d-5ab84012f15d",
   "metadata": {},
   "outputs": [
    {
     "data": {
      "image/png": "[encoded data removed]",
      "text/plain": [
       "<Figure size 640x480 with 1 Axes>"
      ]
     },
     "metadata": {},
     "output_type": "display_data"
    }
   ],
   "source": [
    "pp.hist(chain['crn_log10_A'], bins=20, histtype='step', density=True);"
   ]
  },
  {
   "cell_type": "code",
   "execution_count": null,
   "id": "42d400da-1326-4a70-b962-b85dc205b174",
   "metadata": {},
   "outputs": [],
   "source": []
  }
 ],
 "metadata": {
  "kernelspec": {
   "display_name": "Python 3 (ipykernel)",
   "language": "python",
   "name": "python3"
  },
  "language_info": {
   "codemirror_mode": {
    "name": "ipython",
    "version": 3
   },
   "file_extension": ".py",
   "mimetype": "text/x-python",
   "name": "python",
   "nbconvert_exporter": "python",
   "pygments_lexer": "ipython3",
   "version": "3.13.1"
  }
 },
 "nbformat": 4,
 "nbformat_minor": 5
}
